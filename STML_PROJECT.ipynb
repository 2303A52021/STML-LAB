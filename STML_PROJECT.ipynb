{
  "cells": [
    {
      "cell_type": "markdown",
      "metadata": {
        "id": "view-in-github",
        "colab_type": "text"
      },
      "source": [
        "<a href=\"https://colab.research.google.com/github/2303A52021/STML-LAB/blob/main/STML_PROJECT.ipynb\" target=\"_parent\"><img src=\"https://colab.research.google.com/assets/colab-badge.svg\" alt=\"Open In Colab\"/></a>"
      ]
    },
    {
      "cell_type": "code",
      "execution_count": null,
      "metadata": {
        "id": "tzblOk6w19DA"
      },
      "outputs": [],
      "source": [
        "import numpy as np\n",
        "import pandas as pd\n",
        "import matplotlib.pyplot as plt\n",
        "import seaborn as sns\n",
        "from sklearn import svm\n",
        "from sklearn.model_selection import train_test_split\n",
        "from sklearn.metrics import accuracy_score\n",
        "from sklearn.metrics import pair_confusion_matrix\n",
        "from sklearn.metrics import classification_report\n",
        "from sklearn.model_selection import cross_val_score\n",
        "from sklearn.preprocessing import StandardScaler\n",
        "from sklearn.neighbors import KNeighborsClassifier\n",
        "from sklearn import tree\n",
        "from sklearn.preprocessing import LabelEncoder\n",
        "from sklearn.ensemble import RandomForestClassifier\n",
        "\n",
        "\n"
      ]
    },
    {
      "cell_type": "code",
      "execution_count": null,
      "metadata": {
        "id": "DGfVZtDA2LrD"
      },
      "outputs": [],
      "source": [
        "df = pd.read_csv(\"/content/full_data.csv\")"
      ]
    },
    {
      "cell_type": "code",
      "execution_count": null,
      "metadata": {
        "id": "70CKBQpe2bBo"
      },
      "outputs": [],
      "source": [
        "df.head()"
      ]
    },
    {
      "cell_type": "code",
      "execution_count": null,
      "metadata": {
        "id": "R1Qk13ZH2cwC"
      },
      "outputs": [],
      "source": [
        "df.tail()"
      ]
    },
    {
      "cell_type": "code",
      "execution_count": null,
      "metadata": {
        "id": "6V5pWR9A2kC1"
      },
      "outputs": [],
      "source": [
        "target_of_1=df[df['stroke']==1]\n",
        "target_of_0=df[df['stroke']==0]\n",
        "axes = target_of_1.plot(kind=\"bar\",x='gender',y='age',color='black',label=1)\n",
        "target_of_0.plot(kind=\"bar\",x='gender',y='age',color='red',ax=axes,label=0)\n",
        "plt.show()"
      ]
    },
    {
      "cell_type": "code",
      "execution_count": null,
      "metadata": {
        "id": "27J0U9VX4Jpa"
      },
      "outputs": [],
      "source": [
        "df.dtypes"
      ]
    },
    {
      "cell_type": "code",
      "execution_count": null,
      "metadata": {
        "id": "bcLA2ncX4PDa"
      },
      "outputs": [],
      "source": [
        "replaced = df.replace({\"Male\":1,\"Female\":0,\"Other\":2,\"never smoked\":0,\"formerly smoked\":1,\"smokes\":2,\"Unknown\":3})\n",
        "replaced.head(100)"
      ]
    },
    {
      "cell_type": "code",
      "execution_count": null,
      "metadata": {
        "id": "kibvw8iP5fxd"
      },
      "outputs": [],
      "source": [
        "replaced.bmi.mean()"
      ]
    },
    {
      "cell_type": "code",
      "execution_count": null,
      "metadata": {
        "id": "EsveZaXh5qtE"
      },
      "outputs": [],
      "source": [
        "replaced.bmi=replaced.bmi.fillna(replaced.bmi.mean())\n",
        "replaced.head()"
      ]
    },
    {
      "cell_type": "code",
      "execution_count": null,
      "metadata": {
        "id": "qEMNkH6-6Qzy"
      },
      "outputs": [],
      "source": [
        "from sklearn import linear_model\n",
        "reg=linear_model.LinearRegression()\n",
        "reg.fit(replaced[['gender','age','hypertension',\"heart_disease\",'avg_glucose_level','bmi','smoking_status']],df.stroke)"
      ]
    },
    {
      "cell_type": "code",
      "execution_count": null,
      "metadata": {
        "id": "p_PRENdr7VgF"
      },
      "outputs": [],
      "source": [
        "reg.coef_"
      ]
    },
    {
      "cell_type": "code",
      "execution_count": null,
      "metadata": {
        "id": "4rXe7sxg7bPW"
      },
      "outputs": [],
      "source": [
        "reg.intercept_"
      ]
    },
    {
      "cell_type": "code",
      "execution_count": null,
      "metadata": {
        "id": "_5QQT-b67emN"
      },
      "outputs": [],
      "source": [
        "reg.predict([[1,50,1,1,106.25,39.5,2]])"
      ]
    },
    {
      "cell_type": "code",
      "execution_count": null,
      "metadata": {
        "id": "BAgCcO5b84qO"
      },
      "outputs": [],
      "source": [
        "df.columns\n",
        "feature =replaced[['gender','age','hypertension','heart_disease','avg_glucose_level','bmi','smoking_status']]\n",
        "X=np.asarray(feature)\n",
        "Y=np.asarray(df['stroke'])\n",
        "X[0:10]"
      ]
    },
    {
      "cell_type": "code",
      "execution_count": null,
      "metadata": {
        "id": "qKgumrky9M4x"
      },
      "outputs": [],
      "source": [
        "x_train,x_test,y_train,y_test=train_test_split(X,Y,test_size=0.2,random_state=42)\n",
        "x_train.shape"
      ]
    },
    {
      "cell_type": "code",
      "execution_count": null,
      "metadata": {
        "id": "ny8qZ2NnAWov"
      },
      "outputs": [],
      "source": [
        "cls=svm.SVC(kernel='linear')\n",
        "cls.fit(x_train,y_train)\n",
        "Y_pred=cls.predict(x_test)\n",
        "acc=accuracy_score(y_test,Y_pred)\n",
        "print(\"Accuracy Of SVM Model is:\",acc)"
      ]
    },
    {
      "cell_type": "code",
      "execution_count": null,
      "metadata": {
        "id": "IskZdNGjAfq2"
      },
      "outputs": [],
      "source": [
        "print(classification_report(y_test,Y_pred))"
      ]
    },
    {
      "cell_type": "code",
      "execution_count": null,
      "metadata": {
        "id": "q0yTs1UQO7zv"
      },
      "outputs": [],
      "source": [
        "sns.countplot(replaced[\"stroke\"])\n",
        "plt.xlabel(\"stroke\")\n",
        "plt.ylabel(\"count\")\n",
        "plt.title(\"count of stroke\")\n",
        "plt.show()"
      ]
    },
    {
      "cell_type": "code",
      "execution_count": null,
      "metadata": {
        "id": "RG_mHFrEPTe6"
      },
      "outputs": [],
      "source": [
        "x=replaced.iloc[:,:-1]\n",
        "y=replaced.iloc[:,-1]"
      ]
    },
    {
      "cell_type": "code",
      "execution_count": null,
      "metadata": {
        "id": "MFg3L-QvPqcS"
      },
      "outputs": [],
      "source": [
        "x.shape"
      ]
    },
    {
      "cell_type": "code",
      "execution_count": null,
      "metadata": {
        "id": "f1rkVhZQPsf7"
      },
      "outputs": [],
      "source": [
        "y.shape"
      ]
    },
    {
      "cell_type": "code",
      "execution_count": null,
      "metadata": {
        "id": "PI2nW1f4Pu2G"
      },
      "outputs": [],
      "source": [
        "y_train.shape"
      ]
    },
    {
      "cell_type": "code",
      "execution_count": null,
      "metadata": {
        "colab": {
          "background_save": true
        },
        "id": "xYyRHZ_-PyV1"
      },
      "outputs": [],
      "source": [
        "x_train,x_test,y_train,y_test = train_test_split(x,y,test_size=0.2,random_state=42)\n",
        "x_train.shape"
      ]
    },
    {
      "cell_type": "code",
      "execution_count": null,
      "metadata": {
        "id": "D4vaaMA9RdJC"
      },
      "outputs": [],
      "source": [
        "categorical_cols = x_train.select_dtypes(include=['object']).columns\n",
        "print(\"Categorical columns:\", categorical_cols)\n",
        "x_train_encoded = pd.get_dummies(x_train, columns=categorical_cols, drop_first=True)\n",
        "x_test_encoded = pd.get_dummies(x_test, columns=categorical_cols, drop_first=True)\n",
        "x_train_encoded, x_test_encoded = x_train_encoded.align(x_test_encoded, join='left', axis=1, fill_value=0)\n",
        "x_train_encoded = pd.get_dummies(x_train, columns=categorical_cols, drop_first=True)\n",
        "x_test_encoded = pd.get_dummies(x_test, columns=categorical_cols, drop_first=True)\n",
        "x_train_encoded, x_test_encoded = x_train_encoded.align(x_test_encoded, join='left', axis=1, fill_value=0)"
      ]
    },
    {
      "cell_type": "code",
      "execution_count": null,
      "metadata": {
        "id": "zxj4IxgFQzek"
      },
      "outputs": [],
      "source": [
        "categorical_cols = x_train.select_dtypes(include=['object']).columns\n",
        "x_train_encoded = pd.get_dummies(x_train, columns=categorical_cols, drop_first=True)\n",
        "x_test_encoded = pd.get_dummies(x_test, columns=categorical_cols, drop_first=True)\n",
        "x_train_encoded, x_test_encoded = x_train_encoded.align(x_test_encoded, join='left', axis=1, fill_value=0)\n",
        "scaler = StandardScaler()\n",
        "scaler.fit(x_train_encoded)\n",
        "x_train_scaled = scaler.transform(x_train_encoded)\n",
        "x_test_scaled = scaler.transform(x_test_encoded)\n",
        "knn = KNeighborsClassifier(n_neighbors=5)\n",
        "knn.fit(x_train_scaled, y_train)"
      ]
    },
    {
      "cell_type": "code",
      "execution_count": null,
      "metadata": {
        "id": "crgRZ0hj5omj"
      },
      "outputs": [],
      "source": [
        "acc=knn.score(x_test_scaled,y_test)\n",
        "print(\"Accuracy Of KNN Model is:\",acc)"
      ]
    },
    {
      "cell_type": "code",
      "execution_count": null,
      "metadata": {
        "id": "6AjABlUw5VNf"
      },
      "outputs": [],
      "source": [
        "clf=knn.predict(x_test_scaled)"
      ]
    },
    {
      "cell_type": "code",
      "execution_count": null,
      "metadata": {
        "id": "U1Mq6D8o5guh"
      },
      "outputs": [],
      "source": [
        "print(classification_report(y_test,clf))"
      ]
    },
    {
      "cell_type": "code",
      "execution_count": null,
      "metadata": {
        "id": "hBGGiLZL5vRa"
      },
      "outputs": [],
      "source": [
        "x = replaced.iloc[:,:-1]\n",
        "y = replaced.iloc[:,-1]"
      ]
    },
    {
      "cell_type": "code",
      "execution_count": null,
      "metadata": {
        "id": "G4K21NQ67KFF"
      },
      "outputs": [],
      "source": [
        "x.shape"
      ]
    },
    {
      "cell_type": "code",
      "execution_count": null,
      "metadata": {
        "id": "S-Vy084j7R6-"
      },
      "outputs": [],
      "source": [
        "y.shape"
      ]
    },
    {
      "cell_type": "code",
      "execution_count": null,
      "metadata": {
        "id": "R7tczGHC8lft"
      },
      "outputs": [],
      "source": [
        "x_train,x_test,y_train,y_test = train_test_split(x,y,test_size=0.2,random_state=42)\n"
      ]
    },
    {
      "cell_type": "code",
      "execution_count": null,
      "metadata": {
        "id": "mb5KuYbI8A9d"
      },
      "outputs": [],
      "source": [
        "x_train.shape"
      ]
    },
    {
      "cell_type": "code",
      "execution_count": null,
      "metadata": {
        "id": "wOVHmq0KhEUx"
      },
      "outputs": [],
      "source": [
        "df = pd.read_csv(\"/content/full_data.csv\")\n",
        "df = df.dropna()\n",
        "label_encoders = {}\n",
        "categorical_columns = ['gender', 'hypertension', 'heart_disease', 'ever_married', 'work_type', 'Residence_type', 'smoking_status']\n",
        "for column in categorical_columns:\n",
        "    label_encoders[column] = LabelEncoder()\n",
        "    df[column] = label_encoders[column].fit_transform(df[column].astype(str))\n",
        "decision = df.drop(['stroke'], axis='columns')\n",
        "target = df['stroke']\n",
        "x_train, x_test, y_train, y_test = train_test_split(decision, target, test_size=0.2, random_state=42)\n",
        "model = tree.DecisionTreeClassifier(max_depth=3)\n",
        "model.fit(x_train, y_train)\n",
        "acc = model.score(x_test, y_test)\n",
        "print(\"Accuracy Of Decision Tree Model is:\", acc)\n"
      ]
    },
    {
      "cell_type": "code",
      "execution_count": null,
      "metadata": {
        "id": "zo93-nGsjM_A"
      },
      "outputs": [],
      "source": [
        "y_pred = model.predict(x_test)\n",
        "conf_matrix = confusion_matrix(y_test, y_pred)\n",
        "print(\"Confusion Matrix:\")\n",
        "print(conf_matrix)"
      ]
    },
    {
      "cell_type": "code",
      "execution_count": null,
      "metadata": {
        "id": "r0gqeaEQcpgJ"
      },
      "outputs": [],
      "source": [
        "df = pd.read_csv(\"/content/full_data.csv\")"
      ]
    },
    {
      "cell_type": "code",
      "execution_count": null,
      "metadata": {
        "id": "Gy5tnnF-e7Ug"
      },
      "outputs": [],
      "source": [
        "df = df.dropna()"
      ]
    },
    {
      "cell_type": "code",
      "execution_count": null,
      "metadata": {
        "id": "fAPRKqe6e_Mw"
      },
      "outputs": [],
      "source": [
        "label_encoders = {}\n",
        "categorical_columns = ['gender', 'hypertension', 'heart_disease', 'ever_married', 'work_type', 'Residence_type', 'smoking_status']\n",
        "for column in categorical_columns:\n",
        "    label_encoders[column] = LabelEncoder()\n",
        "    df[column] = label_encoders[column].fit_transform(df[column].astype(str))"
      ]
    },
    {
      "cell_type": "code",
      "execution_count": null,
      "metadata": {
        "id": "qN8IsJHvfuQk"
      },
      "outputs": [],
      "source": [
        "X = df.drop('stroke',axis=1)\n",
        "y = df['stroke']"
      ]
    },
    {
      "cell_type": "code",
      "execution_count": null,
      "metadata": {
        "id": "PoEqiJzUhRzQ"
      },
      "outputs": [],
      "source": [
        "X_train,X_test,y_train,y_test = train_test_split(X,y,test_size=0.3,random_state=42)\n"
      ]
    },
    {
      "cell_type": "code",
      "execution_count": null,
      "metadata": {
        "id": "Ti2iRcXghr_Q"
      },
      "outputs": [],
      "source": [
        "scaler = StandardScaler()\n",
        "X_train = scaler.fit_transform(X_train)\n",
        "X_test = scaler.transform(X_test)"
      ]
    },
    {
      "cell_type": "code",
      "execution_count": null,
      "metadata": {
        "id": "tWs5ry1LiAqh"
      },
      "outputs": [],
      "source": [
        "Rf = RandomForestClassifier(n_estimators=100,random_state=42)\n",
        "Rf = Rf.fit(X_train,y_train)\n"
      ]
    },
    {
      "cell_type": "code",
      "execution_count": null,
      "metadata": {
        "id": "t0B5baKwihOj"
      },
      "outputs": [],
      "source": [
        "y_predict = Rf.predict(X_test)"
      ]
    },
    {
      "cell_type": "code",
      "execution_count": null,
      "metadata": {
        "id": "qsub1mTGiyEu"
      },
      "outputs": [],
      "source": [
        "acc = accuracy_score(y_test,y_predict)\n",
        "print(\"Accuracy of Random Forest :\",acc)"
      ]
    },
    {
      "cell_type": "code",
      "execution_count": null,
      "metadata": {
        "id": "Ps3RrPY0jCNn"
      },
      "outputs": [],
      "source": [
        "CM = confusion_matrix(y_test,y_predict)\n",
        "print(\"The confusion matrix of random forest is:\",CM)"
      ]
    },
    {
      "cell_type": "code",
      "execution_count": null,
      "metadata": {
        "id": "yrHHGsHZjdNM"
      },
      "outputs": [],
      "source": [
        "classification_report = classification_report(y_test,y_predict)\n",
        "print(\"The classification report of random forest is:\",classification_report)"
      ]
    }
  ],
  "metadata": {
    "colab": {
      "provenance": [],
      "authorship_tag": "ABX9TyPPHUoAa6FPRTKxOnmfhruR",
      "include_colab_link": true
    },
    "kernelspec": {
      "display_name": "Python 3",
      "name": "python3"
    },
    "language_info": {
      "name": "python"
    }
  },
  "nbformat": 4,
  "nbformat_minor": 0
}